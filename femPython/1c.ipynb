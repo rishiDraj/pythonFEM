{
 "cells": [
  {
   "cell_type": "markdown",
   "id": "40dacb4f",
   "metadata": {},
   "source": [
    "# question 1\n",
    "# PART-C linear element"
   ]
  },
  {
   "cell_type": "code",
   "execution_count": 17,
   "id": "43d25676",
   "metadata": {},
   "outputs": [],
   "source": [
    "import numpy as np\n",
    "import pandas as pd"
   ]
  },
  {
   "cell_type": "code",
   "execution_count": 18,
   "id": "50a89c76",
   "metadata": {},
   "outputs": [
    {
     "data": {
      "text/plain": [
       "[[5, 3],\n",
       " [11, 9, 7, 5],\n",
       " [17, 15, 13, 11, 9, 7],\n",
       " [23, 21, 19, 17, 15, 13, 11, 9],\n",
       " [29, 27, 25, 23, 21, 19, 17, 15, 13, 11]]"
      ]
     },
     "execution_count": 18,
     "metadata": {},
     "output_type": "execute_result"
    }
   ],
   "source": [
    "n=[2,4,6,8,10]#element_num_list\n",
    "#e=[3,5,7,9,11] #number_of_nodes\n",
    "stiffnes_values=[]# having coefficients AE/L=K=20000\n",
    "for i in n:\n",
    "    elem_coord=[0]\n",
    "    j=0\n",
    "    while max(elem_coord) <=1:\n",
    "        j+=1/i\n",
    "        elem_coord.append(j)\n",
    "    window_size = 2\n",
    "    k = 0\n",
    "    moving_averages = []\n",
    "    while k < len(elem_coord) - window_size+1 :\n",
    "        window = elem_coord[k : k + window_size]\n",
    "        window_average = (3-2*round(sum(window) / window_size, 2))*i\n",
    "        moving_averages.append(window_average)\n",
    "        k += 1\n",
    "    del moving_averages[-1]\n",
    "    moving_averages = [round(x) for x in moving_averages]\n",
    "    stiffnes_values.append(moving_averages)\n",
    "stiffnes_values      \n",
    "        "
   ]
  },
  {
   "cell_type": "code",
   "execution_count": 19,
   "id": "38853c20",
   "metadata": {},
   "outputs": [],
   "source": [
    "elem_node_list=[]\n",
    "for i in n:\n",
    "    j=1\n",
    "    elem_node = np.array([[0,0]])\n",
    "    while j<=i:\n",
    "        elementNodes=np.array([[j ,j+1]])\n",
    "        elem_node=np.concatenate((elem_node,elementNodes), axis=0)\n",
    "        j+=1\n",
    "    elem_node=np.delete(elem_node, 0, 0)\n",
    "    elem_node_list.append(elem_node)"
   ]
  },
  {
   "cell_type": "markdown",
   "id": "82edba07",
   "metadata": {},
   "source": [
    "# initializing displacement, force and stiffness arrays"
   ]
  },
  {
   "cell_type": "code",
   "execution_count": 20,
   "id": "d72f8802",
   "metadata": {},
   "outputs": [],
   "source": [
    "d_mat,f_mat,k_mat=[],[],[]\n",
    "for i in n:\n",
    "    d_mat.append(np.zeros((i+1,1)))\n",
    "    f_mat.append(np.zeros((i+1,1)))\n",
    "    k_mat.append(np.zeros((i+1,i+1)))"
   ]
  },
  {
   "cell_type": "markdown",
   "id": "bd07fc4f",
   "metadata": {},
   "source": [
    "# apply loads at node "
   ]
  },
  {
   "cell_type": "code",
   "execution_count": 21,
   "id": "e1b02c26",
   "metadata": {},
   "outputs": [],
   "source": [
    "for i in range(len(n)):\n",
    "    f_mat[i][-1][0]=100"
   ]
  },
  {
   "cell_type": "code",
   "execution_count": 6,
   "id": "61852bd8",
   "metadata": {},
   "outputs": [],
   "source": [
    "master_stiffness=[]\n",
    "for i in range(len(n)):\n",
    "    for j in range(n[i]):\n",
    "        elementDof=elem_node_list[i][j,]\n",
    "        rows=np.array([[elementDof[0]-1, elementDof[0]-1],\n",
    "                     [elementDof[1]-1, elementDof[1]-1]], dtype=np.intp)\n",
    "        columns=np.array([[elementDof[0]-1, elementDof[1]-1],\n",
    "                     [elementDof[0]-1, elementDof[1]-1]], dtype=np.intp)\n",
    "        a=stiffnes_values[i][j]\n",
    "        k_mat[i][rows,columns]=k_mat[i][rows,columns]+np.array([[a ,-a],[-a ,a]])\n",
    "    b=k_mat[i]*20000\n",
    "    master_stiffness.append(b)"
   ]
  },
  {
   "cell_type": "markdown",
   "id": "12807f48",
   "metadata": {},
   "source": [
    "# assembly of stiffness matrix"
   ]
  },
  {
   "cell_type": "code",
   "execution_count": 7,
   "id": "1ac3facc",
   "metadata": {},
   "outputs": [
    {
     "data": {
      "text/plain": [
       "array([[ 220000., -220000.,       0.,       0.,       0.],\n",
       "       [-220000.,  400000., -180000.,       0.,       0.],\n",
       "       [      0., -180000.,  320000., -140000.,       0.],\n",
       "       [      0.,       0., -140000.,  240000., -100000.],\n",
       "       [      0.,       0.,       0., -100000.,  100000.]])"
      ]
     },
     "execution_count": 7,
     "metadata": {},
     "output_type": "execute_result"
    }
   ],
   "source": [
    "master_stiffness[1]"
   ]
  },
  {
   "cell_type": "markdown",
   "id": "f784a13b",
   "metadata": {},
   "source": [
    "# boundary conditions and solution"
   ]
  },
  {
   "cell_type": "code",
   "execution_count": 8,
   "id": "325b9a82",
   "metadata": {},
   "outputs": [],
   "source": [
    "active_dof_list=[]\n",
    "for i in n:\n",
    "    prescribedDof=np.array([[0]]) # corresponding to reaction (restricted DOF)\n",
    "    active_dof_list.append(np.setdiff1d(np.linspace(0,i,num=i+1),prescribedDof))"
   ]
  },
  {
   "cell_type": "code",
   "execution_count": 9,
   "id": "e7c87a29",
   "metadata": {},
   "outputs": [],
   "source": [
    "displacement_list=[]\n",
    "for i in range(len(n)):\n",
    "    reduced_stiffness1=np.delete(k_mat[i],prescribedDof , axis=0)\n",
    "    reduced_stiffness=np.delete(reduced_stiffness1,prescribedDof , axis=1)\n",
    "    reduced_force=np.delete(f_mat[i],prescribedDof , axis=0)\n",
    "    disp=np.linalg.solve(reduced_stiffness, reduced_force)/20000\n",
    "    displacement_list.append(disp)"
   ]
  },
  {
   "cell_type": "code",
   "execution_count": 10,
   "id": "ed51e1e5",
   "metadata": {},
   "outputs": [],
   "source": [
    "import matplotlib.pyplot as plt"
   ]
  },
  {
   "cell_type": "code",
   "execution_count": 22,
   "id": "e48f37bf",
   "metadata": {},
   "outputs": [
    {
     "ename": "IndentationError",
     "evalue": "expected an indented block (4192014804.py, line 7)",
     "output_type": "error",
     "traceback": [
      "\u001b[1;36m  File \u001b[1;32m\"C:\\Users\\MOHIT PRAJAPAT\\AppData\\Local\\Temp\\ipykernel_8360\\4192014804.py\"\u001b[1;36m, line \u001b[1;32m7\u001b[0m\n\u001b[1;33m    \u001b[0m\n\u001b[1;37m    ^\u001b[0m\n\u001b[1;31mIndentationError\u001b[0m\u001b[1;31m:\u001b[0m expected an indented block\n"
     ]
    }
   ],
   "source": [
    "for i in range(len(n)):\n",
    "    plt.plot(i+1, displacement_list[i][-1][0],'g.')\n",
    "    plt.xlabel(\"number_of_elements\")\n",
    "    plt.ylabel(\"displacement in metres\")\n",
    "\n",
    "    \n",
    "    "
   ]
  },
  {
   "cell_type": "code",
   "execution_count": null,
   "id": "b40f716b",
   "metadata": {},
   "outputs": [],
   "source": []
  }
 ],
 "metadata": {
  "kernelspec": {
   "display_name": "Python 3 (ipykernel)",
   "language": "python",
   "name": "python3"
  },
  "language_info": {
   "codemirror_mode": {
    "name": "ipython",
    "version": 3
   },
   "file_extension": ".py",
   "mimetype": "text/x-python",
   "name": "python",
   "nbconvert_exporter": "python",
   "pygments_lexer": "ipython3",
   "version": "3.9.13"
  }
 },
 "nbformat": 4,
 "nbformat_minor": 5
}
