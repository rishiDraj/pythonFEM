{
 "cells": [
  {
   "cell_type": "markdown",
   "id": "23a1c10d",
   "metadata": {},
   "source": [
    "# question 1\n",
    "# PART-D quadratic element"
   ]
  },
  {
   "cell_type": "code",
   "execution_count": 1,
   "id": "10a29122",
   "metadata": {},
   "outputs": [],
   "source": [
    "import numpy as np\n",
    "import pandas as pd\n"
   ]
  },
  {
   "cell_type": "code",
   "execution_count": 9,
   "id": "ff5d1ab6",
   "metadata": {},
   "outputs": [],
   "source": [
    "n=[2,4,6,8,10] #element_num_list\n",
    "#e=[3,5,7,9,11] #number_of_nodes\n",
    "stiffnes_values=[] # having coefficients AE/L=K=20000\n",
    "for i in n:\n",
    "    elem_coord=[0]\n",
    "    j=0\n",
    "    while max(elem_coord) <=1:\n",
    "        j+=1/(i)\n",
    "        elem_coord.append(j)\n",
    "        window_size = 2\n",
    "        k = 0\n",
    "        moving_averages = []\n",
    "    while k < len(elem_coord) - window_size+1:\n",
    "        window = elem_coord[k : k + window_size]\n",
    "        window_average = (3-2*round(sum(window) / window_size, 2))*i\n",
    "        moving_averages.append(window_average)\n",
    "        k += 1\n",
    "    del moving_averages[-1]\n",
    "    moving_averages = [round(x) for x in moving_averages]\n",
    "    stiffnes_values.append(moving_averages)"
   ]
  },
  {
   "cell_type": "code",
   "execution_count": 18,
   "id": "3343ea95",
   "metadata": {},
   "outputs": [],
   "source": [
    "elem_node_list=[]\n",
    "for i in n:\n",
    "    j=1\n",
    "    elem_node = np.array([[0,0,0]])\n",
    "\n",
    "    while j<=2*i+1:\n",
    "        elementNodes=np.array([[j ,j+1,j+2]])\n",
    "        j+=2\n",
    "        elem_node=np.concatenate((elem_node,elementNodes), axis=0)\n",
    "    elem_node=np.delete(elem_node,[0,-1], 0)\n",
    "    elem_node_list.append(elem_node)\n"
   ]
  },
  {
   "cell_type": "markdown",
   "id": "103af4ab",
   "metadata": {},
   "source": [
    "# initializing displacement, force and stiffness arrays"
   ]
  },
  {
   "cell_type": "code",
   "execution_count": 19,
   "id": "b17117eb",
   "metadata": {},
   "outputs": [],
   "source": [
    "d_mat,f_mat,k_mat=[],[],[]\n",
    "for i in n:\n",
    "    d_mat.append(np.zeros((2*i+1,1)))\n",
    "    f_mat.append(np.zeros((2*i+1,1)))\n",
    "    k_mat.append(np.zeros((2*i+1,2*i+1)))\n"
   ]
  },
  {
   "cell_type": "markdown",
   "id": "d82d48d9",
   "metadata": {},
   "source": [
    "# apply loads at node "
   ]
  },
  {
   "cell_type": "code",
   "execution_count": 20,
   "id": "d61c17ac",
   "metadata": {},
   "outputs": [],
   "source": [
    "for i in range(len(n)):\n",
    "    f_mat[i][-1][0]=100"
   ]
  },
  {
   "cell_type": "markdown",
   "id": "6ee98b66",
   "metadata": {},
   "source": [
    "# assembly of stiffness matrix"
   ]
  },
  {
   "cell_type": "code",
   "execution_count": 21,
   "id": "a7496a9b",
   "metadata": {},
   "outputs": [],
   "source": [
    "master_stiffness=[]\n",
    "for i in range(len(n)):\n",
    "    for j in range(n[i]):\n",
    "        elementDof=elem_node_list[i][j,]\n",
    "        rows=np.array([[elementDof[0]-1, elementDof[0]-1,elementDof[0]-1],\n",
    "        [elementDof[1]-1, elementDof[1]-1,elementDof[1]-1],[elementDof[2]-1, elementDof[2]-1,elementDof[2]-1]\n",
    "        ], dtype=np.intp)\n",
    "\n",
    "        columns=np.array([[elementDof[0]-1, elementDof[1]-1, elementDof[2]-1],\n",
    "        [elementDof[0]-1, elementDof[1]-1, elementDof[2]-1],\n",
    "        [elementDof[0]-1, elementDof[1]-1, elementDof[2]-1]],dtype=np.intp)\n",
    "\n",
    "        a=stiffnes_values[i][j]\n",
    "        k_mat[i][rows,columns]=k_mat[i][rows,columns]+np.array([[7*a/3,-8*a/3,a/3],[-8*a/3,16*a/3,-8*a/3],[a/3,-8*a/3 ,7*a/3]])\n",
    "    b=k_mat[i]*20000\n",
    "    master_stiffness.append(b)"
   ]
  },
  {
   "cell_type": "markdown",
   "id": "199affcb",
   "metadata": {},
   "source": [
    "# boundary conditions and solution"
   ]
  },
  {
   "cell_type": "code",
   "execution_count": 22,
   "id": "123fadab",
   "metadata": {},
   "outputs": [],
   "source": [
    "active_dof_list=[]\n",
    "for i in n:\n",
    "    prescribedDof=np.array([[0]]) # corresponding to reaction (restricted DOF)\n",
    "    active_dof_list.append(np.setdiff1d(np.linspace(0,2*i,num=2*i+1),prescribedDof))"
   ]
  },
  {
   "cell_type": "code",
   "execution_count": 23,
   "id": "40436d78",
   "metadata": {},
   "outputs": [],
   "source": [
    "displacement_list1=[]\n",
    "for i in range(len(n)):\n",
    "    reduced_stiffness1=np.delete(k_mat[i],prescribedDof , axis=0)\n",
    "    reduced_stiffness=np.delete(reduced_stiffness1,prescribedDof , axis=1)\n",
    "    reduced_force=np.delete(f_mat[i],prescribedDof , axis=0)\n",
    "    disp=np.linalg.solve(reduced_stiffness, reduced_force)/20000\n",
    "    displacement_list1.append(disp)\n"
   ]
  },
  {
   "cell_type": "code",
   "execution_count": 24,
   "id": "3dbc5342",
   "metadata": {},
   "outputs": [],
   "source": [
    "import matplotlib.pyplot as plt\n"
   ]
  },
  {
   "cell_type": "code",
   "execution_count": 25,
   "id": "ca13488c",
   "metadata": {},
   "outputs": [
    {
     "data": {
      "image/png": "[encoded data removed]",
      "text/plain": [
       "<Figure size 640x480 with 1 Axes>"
      ]
     },
     "metadata": {},
     "output_type": "display_data"
    }
   ],
   "source": [
    "for i in range(len(n)):\n",
    "    #plt.plot(i+1, displacement_list1[i][-1][0],'r.')\n",
    "    #plt.xlabel(\"number_of_elements\")\n",
    "    #plt.ylabel(\"displacement in metres\")"
   ]
  },
  {
   "cell_type": "code",
   "execution_count": null,
   "id": "c98f4039",
   "metadata": {},
   "outputs": [],
   "source": []
  }
 ],
 "metadata": {
  "kernelspec": {
   "display_name": "Python 3 (ipykernel)",
   "language": "python",
   "name": "python3"
  },
  "language_info": {
   "codemirror_mode": {
    "name": "ipython",
    "version": 3
   },
   "file_extension": ".py",
   "mimetype": "text/x-python",
   "name": "python",
   "nbconvert_exporter": "python",
   "pygments_lexer": "ipython3",
   "version": "3.9.13"
  }
 },
 "nbformat": 4,
 "nbformat_minor": 5
}
